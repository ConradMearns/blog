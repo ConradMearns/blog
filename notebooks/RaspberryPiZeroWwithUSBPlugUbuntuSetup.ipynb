{
 "cells": [
  {
   "cell_type": "markdown",
   "id": "elder-deputy",
   "metadata": {},
   "source": [
    "# Raspberry Pi Zero W with USB Plug Ubuntu Setup"
   ]
  },
  {
   "cell_type": "code",
   "execution_count": null,
   "id": "distant-customs",
   "metadata": {},
   "outputs": [],
   "source": [
    "# dd if=2021-03-04-raspios-buster-armhf-lite.img of=/dev/mmcblk0 bs=16M\n"
   ]
  },
  {
   "cell_type": "code",
   "execution_count": 1,
   "id": "blind-northwest",
   "metadata": {},
   "outputs": [
    {
     "name": "stdout",
     "output_type": "stream",
     "text": [
      "hello\n"
     ]
    }
   ],
   "source": [
    "echo 'hello'"
   ]
  },
  {
   "cell_type": "code",
   "execution_count": null,
   "id": "headed-ebony",
   "metadata": {},
   "outputs": [],
   "source": []
  }
 ],
 "metadata": {
  "kernelspec": {
   "display_name": "Bash",
   "language": "bash",
   "name": "bash"
  },
  "language_info": {
   "codemirror_mode": "shell",
   "file_extension": ".sh",
   "mimetype": "text/x-sh",
   "name": "/nix/store/w65ydq10abi813fi7d5j7afdcrxj3aqq-bash-4.4-p23/bin/bash"
  }
 },
 "nbformat": 4,
 "nbformat_minor": 5
}
